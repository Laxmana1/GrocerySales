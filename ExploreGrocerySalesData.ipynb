{
 "cells": [
  {
   "cell_type": "code",
   "execution_count": 1,
   "metadata": {
    "collapsed": true
   },
   "outputs": [],
   "source": [
    "from pyspark import SparkContext\n",
    "from pyspark import SQLContext\n",
    "sc = SparkContext()\n",
    "sqlContext = SQLContext(sc)\n",
    "from pyspark.sql import SparkSession\n",
    "sparkSession = SparkSession.builder.getOrCreate()"
   ]
  },
  {
   "cell_type": "code",
   "execution_count": 2,
   "metadata": {
    "collapsed": true
   },
   "outputs": [],
   "source": [
    "from pyspark.sql.functions import col, countDistinct"
   ]
  },
  {
   "cell_type": "code",
   "execution_count": 3,
   "metadata": {
    "collapsed": true
   },
   "outputs": [],
   "source": [
    "from pyspark.sql.functions import isnan, when, count, col"
   ]
  },
  {
   "cell_type": "markdown",
   "metadata": {},
   "source": [
    "<b>Explore file #1 stores.csv</b>"
   ]
  },
  {
   "cell_type": "code",
   "execution_count": 4,
   "metadata": {
    "collapsed": true
   },
   "outputs": [],
   "source": [
    "sdfStores = sqlContext.read.csv(\"/gl-capstone-data/Team6-C-Sep/Data/stores.csv\",header = True,inferSchema = True)"
   ]
  },
  {
   "cell_type": "code",
   "execution_count": 17,
   "metadata": {},
   "outputs": [
    {
     "data": {
      "text/plain": [
       "54"
      ]
     },
     "execution_count": 17,
     "metadata": {},
     "output_type": "execute_result"
    }
   ],
   "source": [
    "sdfStores.count()"
   ]
  },
  {
   "cell_type": "code",
   "execution_count": 8,
   "metadata": {},
   "outputs": [
    {
     "name": "stdout",
     "output_type": "stream",
     "text": [
      "+-----+\n",
      "|count|\n",
      "+-----+\n",
      "|   54|\n",
      "+-----+\n",
      "\n"
     ]
    }
   ],
   "source": [
    "sdfStores.agg(countDistinct(col(\"store_nbr\")).alias(\"count\")).show()\n",
    "# store_nbr is the primary key as distinct count and total row count match"
   ]
  },
  {
   "cell_type": "code",
   "execution_count": 8,
   "metadata": {},
   "outputs": [
    {
     "name": "stdout",
     "output_type": "stream",
     "text": [
      "+---------+----+-----+----+-------+\n",
      "|store_nbr|city|state|type|cluster|\n",
      "+---------+----+-----+----+-------+\n",
      "|        0|   0|    0|   0|      0|\n",
      "+---------+----+-----+----+-------+\n",
      "\n"
     ]
    }
   ],
   "source": [
    "sdfStores.select([count(when(col(c).isNull(), c)).alias(c) for c in sdfStores.columns]).show()"
   ]
  },
  {
   "cell_type": "code",
   "execution_count": 8,
   "metadata": {},
   "outputs": [
    {
     "data": {
      "text/plain": [
       "22"
      ]
     },
     "execution_count": 8,
     "metadata": {},
     "output_type": "execute_result"
    }
   ],
   "source": [
    "sdfStores.select(\"city\").distinct().count()"
   ]
  },
  {
   "cell_type": "code",
   "execution_count": 7,
   "metadata": {},
   "outputs": [
    {
     "name": "stdout",
     "output_type": "stream",
     "text": [
      "+-------------+\n",
      "|         city|\n",
      "+-------------+\n",
      "|      Quevedo|\n",
      "|       Cuenca|\n",
      "|     Guaranda|\n",
      "|Santo Domingo|\n",
      "|       Playas|\n",
      "+-------------+\n",
      "only showing top 5 rows\n",
      "\n"
     ]
    }
   ],
   "source": [
    "sdfStores.select(\"city\").distinct().show(5)"
   ]
  },
  {
   "cell_type": "code",
   "execution_count": 10,
   "metadata": {},
   "outputs": [
    {
     "data": {
      "text/plain": [
       "16"
      ]
     },
     "execution_count": 10,
     "metadata": {},
     "output_type": "execute_result"
    }
   ],
   "source": [
    "sdfStores.select(\"state\").distinct().count()"
   ]
  },
  {
   "cell_type": "code",
   "execution_count": 11,
   "metadata": {},
   "outputs": [
    {
     "name": "stdout",
     "output_type": "stream",
     "text": [
      "+----------+\n",
      "|     state|\n",
      "+----------+\n",
      "|    Manabi|\n",
      "|  Cotopaxi|\n",
      "| Pichincha|\n",
      "|Chimborazo|\n",
      "|    Guayas|\n",
      "+----------+\n",
      "only showing top 5 rows\n",
      "\n"
     ]
    }
   ],
   "source": [
    "sdfStores.select(\"state\").distinct().show(5)"
   ]
  },
  {
   "cell_type": "code",
   "execution_count": 12,
   "metadata": {},
   "outputs": [
    {
     "data": {
      "text/plain": [
       "5"
      ]
     },
     "execution_count": 12,
     "metadata": {},
     "output_type": "execute_result"
    }
   ],
   "source": [
    "sdfStores.select(\"type\").distinct().count()"
   ]
  },
  {
   "cell_type": "code",
   "execution_count": 14,
   "metadata": {},
   "outputs": [
    {
     "name": "stdout",
     "output_type": "stream",
     "text": [
      "+----+\n",
      "|type|\n",
      "+----+\n",
      "|   E|\n",
      "|   B|\n",
      "|   D|\n",
      "|   C|\n",
      "|   A|\n",
      "+----+\n",
      "\n"
     ]
    }
   ],
   "source": [
    "sdfStores.select(\"type\").distinct().show(10)"
   ]
  },
  {
   "cell_type": "code",
   "execution_count": 15,
   "metadata": {},
   "outputs": [
    {
     "data": {
      "text/plain": [
       "17"
      ]
     },
     "execution_count": 15,
     "metadata": {},
     "output_type": "execute_result"
    }
   ],
   "source": [
    "sdfStores.select(\"cluster\").distinct().count()"
   ]
  },
  {
   "cell_type": "code",
   "execution_count": 16,
   "metadata": {},
   "outputs": [
    {
     "name": "stdout",
     "output_type": "stream",
     "text": [
      "+-------+\n",
      "|cluster|\n",
      "+-------+\n",
      "|     12|\n",
      "|      1|\n",
      "|     13|\n",
      "|      6|\n",
      "|     16|\n",
      "+-------+\n",
      "only showing top 5 rows\n",
      "\n"
     ]
    }
   ],
   "source": [
    "sdfStores.select(\"cluster\").distinct().show(5)"
   ]
  },
  {
   "cell_type": "markdown",
   "metadata": {},
   "source": [
    "<b>Explore file #2 oil.csv</b>"
   ]
  },
  {
   "cell_type": "code",
   "execution_count": 9,
   "metadata": {
    "collapsed": true
   },
   "outputs": [],
   "source": [
    "sdfOil = sqlContext.read.csv(\"/gl-capstone-data/Team6-C-Sep/Data/oil.csv\",header = True,inferSchema = True)"
   ]
  },
  {
   "cell_type": "code",
   "execution_count": 15,
   "metadata": {},
   "outputs": [
    {
     "data": {
      "text/plain": [
       "1218"
      ]
     },
     "execution_count": 15,
     "metadata": {},
     "output_type": "execute_result"
    }
   ],
   "source": [
    "sdfOil.count()"
   ]
  },
  {
   "cell_type": "code",
   "execution_count": 16,
   "metadata": {},
   "outputs": [
    {
     "name": "stdout",
     "output_type": "stream",
     "text": [
      "+-----+\n",
      "|count|\n",
      "+-----+\n",
      "| 1218|\n",
      "+-----+\n",
      "\n"
     ]
    }
   ],
   "source": [
    "sdfOil.agg(countDistinct(col(\"date\")).alias(\"count\")).show()\n",
    "# date is the primary key as distinct count and total row count match"
   ]
  },
  {
   "cell_type": "code",
   "execution_count": 17,
   "metadata": {},
   "outputs": [
    {
     "name": "stdout",
     "output_type": "stream",
     "text": [
      "+----+----------+\n",
      "|date|dcoilwtico|\n",
      "+----+----------+\n",
      "|   0|        43|\n",
      "+----+----------+\n",
      "\n"
     ]
    }
   ],
   "source": [
    "sdfOil.select([count(when(col(c).isNull(), c)).alias(c) for c in sdfOil.columns]).show()"
   ]
  },
  {
   "cell_type": "code",
   "execution_count": 18,
   "metadata": {},
   "outputs": [
    {
     "name": "stdout",
     "output_type": "stream",
     "text": [
      "+-------+------------------+\n",
      "|summary|        dcoilwtico|\n",
      "+-------+------------------+\n",
      "|  count|              1175|\n",
      "|   mean| 67.71436595744689|\n",
      "| stddev|25.630475729453117|\n",
      "|    min|             26.19|\n",
      "|    max|            110.62|\n",
      "+-------+------------------+\n",
      "\n"
     ]
    }
   ],
   "source": [
    "sdfOil.describe().show()"
   ]
  },
  {
   "cell_type": "code",
   "execution_count": 19,
   "metadata": {},
   "outputs": [
    {
     "data": {
      "text/plain": [
       "[46.41]"
      ]
     },
     "execution_count": 19,
     "metadata": {},
     "output_type": "execute_result"
    }
   ],
   "source": [
    "sdfOil.approxQuantile(\"dcoilwtico\", [0.5], 0.25)"
   ]
  },
  {
   "cell_type": "markdown",
   "metadata": {},
   "source": [
    "<b>Explore file #3 holidays_events.csv</b>"
   ]
  },
  {
   "cell_type": "code",
   "execution_count": 19,
   "metadata": {
    "collapsed": true
   },
   "outputs": [],
   "source": [
    "sdfHolidayEvents = sqlContext.read.csv(\"/gl-capstone-data/Team6-C-Sep/Data/holidays_events.csv\",header = True,inferSchema = True)"
   ]
  },
  {
   "cell_type": "code",
   "execution_count": 20,
   "metadata": {},
   "outputs": [
    {
     "data": {
      "text/plain": [
       "350"
      ]
     },
     "execution_count": 20,
     "metadata": {},
     "output_type": "execute_result"
    }
   ],
   "source": [
    "sdfHolidayEvents.count()"
   ]
  },
  {
   "cell_type": "code",
   "execution_count": 21,
   "metadata": {},
   "outputs": [
    {
     "name": "stdout",
     "output_type": "stream",
     "text": [
      "+-----+\n",
      "|count|\n",
      "+-----+\n",
      "|  312|\n",
      "+-----+\n",
      "\n"
     ]
    }
   ],
   "source": [
    "sdfHolidayEvents.agg(countDistinct(col(\"date\")).alias(\"count\")).show()"
   ]
  },
  {
   "cell_type": "code",
   "execution_count": 28,
   "metadata": {},
   "outputs": [
    {
     "data": {
      "text/plain": [
       "312"
      ]
     },
     "execution_count": 28,
     "metadata": {},
     "output_type": "execute_result"
    }
   ],
   "source": [
    "sdfHolidayEvents.select(\"date\").distinct().count()"
   ]
  },
  {
   "cell_type": "code",
   "execution_count": 24,
   "metadata": {},
   "outputs": [
    {
     "name": "stdout",
     "output_type": "stream",
     "text": [
      "+----------+\n",
      "|      type|\n",
      "+----------+\n",
      "|     Event|\n",
      "|   Holiday|\n",
      "|  Transfer|\n",
      "|    Bridge|\n",
      "|Additional|\n",
      "|  Work Day|\n",
      "+----------+\n",
      "\n"
     ]
    }
   ],
   "source": [
    "sdfHolidayEvents.select(\"type\").distinct().show()"
   ]
  },
  {
   "cell_type": "code",
   "execution_count": 25,
   "metadata": {},
   "outputs": [
    {
     "name": "stdout",
     "output_type": "stream",
     "text": [
      "+--------+\n",
      "|  locale|\n",
      "+--------+\n",
      "|National|\n",
      "|   Local|\n",
      "|Regional|\n",
      "+--------+\n",
      "\n"
     ]
    }
   ],
   "source": [
    "sdfHolidayEvents.select(\"locale\").distinct().show()"
   ]
  },
  {
   "cell_type": "code",
   "execution_count": 27,
   "metadata": {},
   "outputs": [
    {
     "data": {
      "text/plain": [
       "24"
      ]
     },
     "execution_count": 27,
     "metadata": {},
     "output_type": "execute_result"
    }
   ],
   "source": [
    "sdfHolidayEvents.select(\"locale_name\").distinct().count()"
   ]
  },
  {
   "cell_type": "code",
   "execution_count": 29,
   "metadata": {},
   "outputs": [
    {
     "data": {
      "text/plain": [
       "349"
      ]
     },
     "execution_count": 29,
     "metadata": {},
     "output_type": "execute_result"
    }
   ],
   "source": [
    "sdfHolidayEvents.select(\"date\", \"type\", \"locale_name\").distinct().count()"
   ]
  },
  {
   "cell_type": "code",
   "execution_count": 33,
   "metadata": {},
   "outputs": [
    {
     "data": {
      "text/plain": [
       "350"
      ]
     },
     "execution_count": 33,
     "metadata": {},
     "output_type": "execute_result"
    }
   ],
   "source": [
    "sdfHolidayEvents.select(\"date\", \"type\", \"locale\", \"locale_name\", \"description\", \"transferred\").distinct().count()\n",
    "# All columns together form the PK"
   ]
  },
  {
   "cell_type": "markdown",
   "metadata": {},
   "source": [
    "<b>Explore file #4 items.csv</b>"
   ]
  },
  {
   "cell_type": "code",
   "execution_count": 34,
   "metadata": {
    "collapsed": true
   },
   "outputs": [],
   "source": [
    "sdfItems = sqlContext.read.csv(\"/gl-capstone-data/Team6-C-Sep/Data/items.csv\",header = True,inferSchema = True)"
   ]
  },
  {
   "cell_type": "code",
   "execution_count": 35,
   "metadata": {},
   "outputs": [
    {
     "data": {
      "text/plain": [
       "4100"
      ]
     },
     "execution_count": 35,
     "metadata": {},
     "output_type": "execute_result"
    }
   ],
   "source": [
    "sdfItems.count()"
   ]
  },
  {
   "cell_type": "code",
   "execution_count": 36,
   "metadata": {},
   "outputs": [
    {
     "data": {
      "text/plain": [
       "4100"
      ]
     },
     "execution_count": 36,
     "metadata": {},
     "output_type": "execute_result"
    }
   ],
   "source": [
    "sdfItems.select(\"item_nbr\").distinct().count()\n",
    "# item_nbr is the primary key as distinct count and total row count match"
   ]
  },
  {
   "cell_type": "markdown",
   "metadata": {},
   "source": [
    "<b>Explore file #5 transactions.csv</b>"
   ]
  },
  {
   "cell_type": "code",
   "execution_count": 38,
   "metadata": {
    "collapsed": true
   },
   "outputs": [],
   "source": [
    "sdfTransactions = sqlContext.read.csv(\"/gl-capstone-data/Team6-C-Sep/Data/transactions.csv\",header = True,inferSchema = True)"
   ]
  },
  {
   "cell_type": "code",
   "execution_count": 39,
   "metadata": {},
   "outputs": [
    {
     "data": {
      "text/plain": [
       "83488"
      ]
     },
     "execution_count": 39,
     "metadata": {},
     "output_type": "execute_result"
    }
   ],
   "source": [
    "sdfTransactions.count()"
   ]
  },
  {
   "cell_type": "code",
   "execution_count": 41,
   "metadata": {},
   "outputs": [
    {
     "data": {
      "text/plain": [
       "83488"
      ]
     },
     "execution_count": 41,
     "metadata": {},
     "output_type": "execute_result"
    }
   ],
   "source": [
    "sdfTransactions.select(\"date\", \"store_nbr\").distinct().count()\n",
    "# date, store_nbr together form the primary key as distinct count and total row count match"
   ]
  },
  {
   "cell_type": "markdown",
   "metadata": {},
   "source": [
    "<b>Explore  file #6 sample_submission.csv</b>"
   ]
  },
  {
   "cell_type": "code",
   "execution_count": 42,
   "metadata": {
    "collapsed": true
   },
   "outputs": [],
   "source": [
    "sdfSampleSubmission = sqlContext.read.csv(\"/gl-capstone-data/Team6-C-Sep/Data/sample_submission.csv\",header = True,inferSchema = True)"
   ]
  },
  {
   "cell_type": "code",
   "execution_count": 43,
   "metadata": {},
   "outputs": [
    {
     "data": {
      "text/plain": [
       "3370464"
      ]
     },
     "execution_count": 43,
     "metadata": {},
     "output_type": "execute_result"
    }
   ],
   "source": [
    "sdfSampleSubmission.count()"
   ]
  },
  {
   "cell_type": "code",
   "execution_count": 44,
   "metadata": {},
   "outputs": [
    {
     "data": {
      "text/plain": [
       "3370464"
      ]
     },
     "execution_count": 44,
     "metadata": {},
     "output_type": "execute_result"
    }
   ],
   "source": [
    "sdfSampleSubmission.select(\"id\").distinct().count()\n",
    "# id is the primary key as distinct count and total row count match"
   ]
  },
  {
   "cell_type": "markdown",
   "metadata": {},
   "source": [
    "<b>Explore file #7 test.csv</b>"
   ]
  },
  {
   "cell_type": "code",
   "execution_count": 45,
   "metadata": {
    "collapsed": true
   },
   "outputs": [],
   "source": [
    "sdfTest = sqlContext.read.csv(\"/gl-capstone-data/Team6-C-Sep/Data/test.csv\",header = True,inferSchema = True)"
   ]
  },
  {
   "cell_type": "code",
   "execution_count": 46,
   "metadata": {},
   "outputs": [
    {
     "data": {
      "text/plain": [
       "3370464"
      ]
     },
     "execution_count": 46,
     "metadata": {},
     "output_type": "execute_result"
    }
   ],
   "source": [
    "sdfTest.count()"
   ]
  },
  {
   "cell_type": "code",
   "execution_count": 47,
   "metadata": {},
   "outputs": [
    {
     "data": {
      "text/plain": [
       "3370464"
      ]
     },
     "execution_count": 47,
     "metadata": {},
     "output_type": "execute_result"
    }
   ],
   "source": [
    "sdfTest.select(\"id\").distinct().count()"
   ]
  },
  {
   "cell_type": "markdown",
   "metadata": {},
   "source": [
    "<b>Explore file #8 train.csv </b>"
   ]
  },
  {
   "cell_type": "code",
   "execution_count": 48,
   "metadata": {
    "collapsed": true
   },
   "outputs": [],
   "source": [
    "sdfTrain = sqlContext.read.csv(\"/gl-capstone-data/Team6-C-Sep/Data/train.csv\",header = True,inferSchema = True)\n",
    "# Only partial file is loaded in HDFS"
   ]
  },
  {
   "cell_type": "code",
   "execution_count": 49,
   "metadata": {},
   "outputs": [
    {
     "data": {
      "text/plain": [
       "49391194"
      ]
     },
     "execution_count": 49,
     "metadata": {},
     "output_type": "execute_result"
    }
   ],
   "source": [
    "sdfTrain.count()"
   ]
  },
  {
   "cell_type": "code",
   "execution_count": null,
   "metadata": {
    "collapsed": true
   },
   "outputs": [],
   "source": [
    "sdfTrain.select(\"id\").distinct().count()"
   ]
  },
  {
   "cell_type": "markdown",
   "metadata": {},
   "source": [
    "<b>Check relatioship between test and sample_submission </b>"
   ]
  },
  {
   "cell_type": "code",
   "execution_count": 51,
   "metadata": {},
   "outputs": [
    {
     "name": "stdout",
     "output_type": "stream",
     "text": [
      "+---------+-------------------+---------+--------+-----------+\n",
      "|       id|               date|store_nbr|item_nbr|onpromotion|\n",
      "+---------+-------------------+---------+--------+-----------+\n",
      "|125497040|2017-08-16 00:00:00|        1|   96995|      false|\n",
      "|125497041|2017-08-16 00:00:00|        1|   99197|      false|\n",
      "|125497042|2017-08-16 00:00:00|        1|  103501|      false|\n",
      "|125497043|2017-08-16 00:00:00|        1|  103520|      false|\n",
      "|125497044|2017-08-16 00:00:00|        1|  103665|      false|\n",
      "|125497045|2017-08-16 00:00:00|        1|  105574|      false|\n",
      "|125497046|2017-08-16 00:00:00|        1|  105575|      false|\n",
      "|125497047|2017-08-16 00:00:00|        1|  105576|      false|\n",
      "|125497048|2017-08-16 00:00:00|        1|  105577|      false|\n",
      "|125497049|2017-08-16 00:00:00|        1|  105693|      false|\n",
      "+---------+-------------------+---------+--------+-----------+\n",
      "only showing top 10 rows\n",
      "\n",
      "None\n"
     ]
    }
   ],
   "source": [
    "print(sdfTest.show(10))"
   ]
  },
  {
   "cell_type": "code",
   "execution_count": 54,
   "metadata": {
    "collapsed": true
   },
   "outputs": [],
   "source": [
    "sdfSampleSubmission.createOrReplaceTempView(\"vwSampleSubmission\")"
   ]
  },
  {
   "cell_type": "code",
   "execution_count": 55,
   "metadata": {},
   "outputs": [
    {
     "name": "stdout",
     "output_type": "stream",
     "text": [
      "+---------+----------+\n",
      "|       id|unit_sales|\n",
      "+---------+----------+\n",
      "|125497040|         0|\n",
      "|125497041|         0|\n",
      "|125497042|         0|\n",
      "|125497043|         0|\n",
      "|125497044|         0|\n",
      "|125497045|         0|\n",
      "|125497046|         0|\n",
      "|125497047|         0|\n",
      "|125497048|         0|\n",
      "|125497049|         0|\n",
      "+---------+----------+\n",
      "\n"
     ]
    }
   ],
   "source": [
    "sparkSession.sql('select * from vwSampleSubmission where id in (125497040, 125497041, 125497042, 125497043, 125497044, 125497045, 125497046, 125497047, 125497048, 125497049)').show()"
   ]
  },
  {
   "cell_type": "raw",
   "metadata": {},
   "source": [
    "10 records from test are present in sample_submission. So concludng that sample_submission contains all the ids from test and unit_sales predictions"
   ]
  }
 ],
 "metadata": {
  "kernelspec": {
   "display_name": "PySpark",
   "language": "python",
   "name": "pyspark"
  },
  "language_info": {
   "codemirror_mode": {
    "name": "ipython",
    "version": 2
   },
   "file_extension": ".py",
   "mimetype": "text/x-python",
   "name": "python",
   "nbconvert_exporter": "python",
   "pygments_lexer": "ipython2",
   "version": "2.7.14"
  }
 },
 "nbformat": 4,
 "nbformat_minor": 2
}
