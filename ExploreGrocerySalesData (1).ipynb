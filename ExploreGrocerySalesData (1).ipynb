{
 "cells": [
  {
   "cell_type": "code",
   "execution_count": 1,
   "metadata": {
    "collapsed": true
   },
   "outputs": [],
   "source": [
    "from pyspark import SparkContext\n",
    "from pyspark import SQLContext\n",
    "sc = SparkContext()\n",
    "sqlContext = SQLContext(sc)\n",
    "from pyspark.sql import SparkSession\n",
    "sparkSession = SparkSession.builder.getOrCreate()\n",
    "\n",
    "from pyspark.sql.functions import col, countDistinct\n",
    "from pyspark.sql.functions import isnan, when, count, col\n",
    "\n",
    "\n",
    "import matplotlib as plot\n",
    "import matplotlib.pyplot as plt\n",
    "import seaborn as sns\n",
    "%matplotlib inline"
   ]
  },
  {
   "cell_type": "code",
   "execution_count": 2,
   "metadata": {
    "collapsed": true
   },
   "outputs": [],
   "source": [
    "b, g, r, p = sns.color_palette(\"muted\", 4)"
   ]
  },
  {
   "cell_type": "markdown",
   "metadata": {},
   "source": [
    "<b>Explore file #1 stores.csv</b>"
   ]
  },
  {
   "cell_type": "code",
   "execution_count": 2,
   "metadata": {
    "collapsed": true
   },
   "outputs": [],
   "source": [
    "sdfStores = sqlContext.read.csv(\"/gl-capstone-data/Team6-C-Sep/Data/stores.csv\",header = True,inferSchema = True)"
   ]
  },
  {
   "cell_type": "code",
   "execution_count": 6,
   "metadata": {},
   "outputs": [
    {
     "data": {
      "text/plain": [
       "54"
      ]
     },
     "execution_count": 6,
     "metadata": {},
     "output_type": "execute_result"
    }
   ],
   "source": [
    "sdfStores.count()"
   ]
  },
  {
   "cell_type": "code",
   "execution_count": 8,
   "metadata": {},
   "outputs": [
    {
     "name": "stdout",
     "output_type": "stream",
     "text": [
      "+-----+\n",
      "|count|\n",
      "+-----+\n",
      "|   54|\n",
      "+-----+\n",
      "\n"
     ]
    }
   ],
   "source": [
    "sdfStores.agg(countDistinct(col(\"store_nbr\")).alias(\"count\")).show()\n",
    "# store_nbr is the primary key as distinct count and total row count match"
   ]
  },
  {
   "cell_type": "code",
   "execution_count": 8,
   "metadata": {},
   "outputs": [
    {
     "name": "stdout",
     "output_type": "stream",
     "text": [
      "+---------+----+-----+----+-------+\n",
      "|store_nbr|city|state|type|cluster|\n",
      "+---------+----+-----+----+-------+\n",
      "|        0|   0|    0|   0|      0|\n",
      "+---------+----+-----+----+-------+\n",
      "\n"
     ]
    }
   ],
   "source": [
    "sdfStores.select([count(when(col(c).isNull(), c)).alias(c) for c in sdfStores.columns]).show()"
   ]
  },
  {
   "cell_type": "code",
   "execution_count": 8,
   "metadata": {},
   "outputs": [
    {
     "data": {
      "text/plain": [
       "22"
      ]
     },
     "execution_count": 8,
     "metadata": {},
     "output_type": "execute_result"
    }
   ],
   "source": [
    "sdfStores.select(\"city\").distinct().count()"
   ]
  },
  {
   "cell_type": "code",
   "execution_count": 7,
   "metadata": {},
   "outputs": [
    {
     "name": "stdout",
     "output_type": "stream",
     "text": [
      "+-------------+\n",
      "|         city|\n",
      "+-------------+\n",
      "|      Quevedo|\n",
      "|       Cuenca|\n",
      "|     Guaranda|\n",
      "|Santo Domingo|\n",
      "|       Playas|\n",
      "+-------------+\n",
      "only showing top 5 rows\n",
      "\n"
     ]
    }
   ],
   "source": [
    "sdfStores.select(\"city\").distinct().show(5)"
   ]
  },
  {
   "cell_type": "code",
   "execution_count": 10,
   "metadata": {},
   "outputs": [
    {
     "data": {
      "text/plain": [
       "16"
      ]
     },
     "execution_count": 10,
     "metadata": {},
     "output_type": "execute_result"
    }
   ],
   "source": [
    "sdfStores.select(\"state\").distinct().count()"
   ]
  },
  {
   "cell_type": "code",
   "execution_count": 11,
   "metadata": {},
   "outputs": [
    {
     "name": "stdout",
     "output_type": "stream",
     "text": [
      "+----------+\n",
      "|     state|\n",
      "+----------+\n",
      "|    Manabi|\n",
      "|  Cotopaxi|\n",
      "| Pichincha|\n",
      "|Chimborazo|\n",
      "|    Guayas|\n",
      "+----------+\n",
      "only showing top 5 rows\n",
      "\n"
     ]
    }
   ],
   "source": [
    "sdfStores.select(\"state\").distinct().show(5)"
   ]
  },
  {
   "cell_type": "code",
   "execution_count": 12,
   "metadata": {},
   "outputs": [
    {
     "data": {
      "text/plain": [
       "5"
      ]
     },
     "execution_count": 12,
     "metadata": {},
     "output_type": "execute_result"
    }
   ],
   "source": [
    "sdfStores.select(\"type\").distinct().count()"
   ]
  },
  {
   "cell_type": "code",
   "execution_count": 14,
   "metadata": {},
   "outputs": [
    {
     "name": "stdout",
     "output_type": "stream",
     "text": [
      "+----+\n",
      "|type|\n",
      "+----+\n",
      "|   E|\n",
      "|   B|\n",
      "|   D|\n",
      "|   C|\n",
      "|   A|\n",
      "+----+\n",
      "\n"
     ]
    }
   ],
   "source": [
    "sdfStores.select(\"type\").distinct().show(10)"
   ]
  },
  {
   "cell_type": "code",
   "execution_count": 15,
   "metadata": {},
   "outputs": [
    {
     "data": {
      "text/plain": [
       "17"
      ]
     },
     "execution_count": 15,
     "metadata": {},
     "output_type": "execute_result"
    }
   ],
   "source": [
    "sdfStores.select(\"cluster\").distinct().count()"
   ]
  },
  {
   "cell_type": "code",
   "execution_count": 16,
   "metadata": {},
   "outputs": [
    {
     "name": "stdout",
     "output_type": "stream",
     "text": [
      "+-------+\n",
      "|cluster|\n",
      "+-------+\n",
      "|     12|\n",
      "|      1|\n",
      "|     13|\n",
      "|      6|\n",
      "|     16|\n",
      "+-------+\n",
      "only showing top 5 rows\n",
      "\n"
     ]
    }
   ],
   "source": [
    "sdfStores.select(\"cluster\").distinct().show(5)"
   ]
  },
  {
   "cell_type": "markdown",
   "metadata": {},
   "source": [
    "<b>Explore file #2 oil.csv</b>"
   ]
  },
  {
   "cell_type": "code",
   "execution_count": 18,
   "metadata": {
    "collapsed": true
   },
   "outputs": [],
   "source": [
    "sdfOil = sqlContext.read.csv(\"/gl-capstone-data/Team6-C-Sep/Data/oil.csv\",header = True,inferSchema = True)"
   ]
  },
  {
   "cell_type": "code",
   "execution_count": 15,
   "metadata": {},
   "outputs": [
    {
     "data": {
      "text/plain": [
       "1218"
      ]
     },
     "execution_count": 15,
     "metadata": {},
     "output_type": "execute_result"
    }
   ],
   "source": [
    "sdfOil.count()"
   ]
  },
  {
   "cell_type": "code",
   "execution_count": 16,
   "metadata": {},
   "outputs": [
    {
     "name": "stdout",
     "output_type": "stream",
     "text": [
      "+-----+\n",
      "|count|\n",
      "+-----+\n",
      "| 1218|\n",
      "+-----+\n",
      "\n"
     ]
    }
   ],
   "source": [
    "sdfOil.agg(countDistinct(col(\"date\")).alias(\"count\")).show()\n",
    "# date is the primary key as distinct count and total row count match"
   ]
  },
  {
   "cell_type": "code",
   "execution_count": 17,
   "metadata": {},
   "outputs": [
    {
     "name": "stdout",
     "output_type": "stream",
     "text": [
      "+----+----------+\n",
      "|date|dcoilwtico|\n",
      "+----+----------+\n",
      "|   0|        43|\n",
      "+----+----------+\n",
      "\n"
     ]
    }
   ],
   "source": [
    "sdfOil.select([count(when(col(c).isNull(), c)).alias(c) for c in sdfOil.columns]).show()"
   ]
  },
  {
   "cell_type": "code",
   "execution_count": 18,
   "metadata": {},
   "outputs": [
    {
     "name": "stdout",
     "output_type": "stream",
     "text": [
      "+-------+------------------+\n",
      "|summary|        dcoilwtico|\n",
      "+-------+------------------+\n",
      "|  count|              1175|\n",
      "|   mean| 67.71436595744689|\n",
      "| stddev|25.630475729453117|\n",
      "|    min|             26.19|\n",
      "|    max|            110.62|\n",
      "+-------+------------------+\n",
      "\n"
     ]
    }
   ],
   "source": [
    "sdfOil.describe().show()"
   ]
  },
  {
   "cell_type": "code",
   "execution_count": 19,
   "metadata": {},
   "outputs": [
    {
     "data": {
      "text/plain": [
       "[46.41]"
      ]
     },
     "execution_count": 19,
     "metadata": {},
     "output_type": "execute_result"
    }
   ],
   "source": [
    "sdfOil.approxQuantile(\"dcoilwtico\", [0.5], 0.25)\n",
    "#median"
   ]
  },
  {
   "cell_type": "code",
   "execution_count": 23,
   "metadata": {},
   "outputs": [
    {
     "name": "stdout",
     "output_type": "stream",
     "text": [
      "2017-08-31 00:00:00\n"
     ]
    }
   ],
   "source": [
    "row1 = sdfOil.agg({\"date\": \"max\"}).collect()[0]\n",
    "print row1[\"max(date)\"]"
   ]
  },
  {
   "cell_type": "code",
   "execution_count": 24,
   "metadata": {},
   "outputs": [
    {
     "name": "stdout",
     "output_type": "stream",
     "text": [
      "2013-01-01 00:00:00\n"
     ]
    }
   ],
   "source": [
    "row2 = sdfOil.agg({\"date\": \"min\"}).collect()[0]\n",
    "print row2[\"min(date)\"]"
   ]
  },
  {
   "cell_type": "markdown",
   "metadata": {},
   "source": [
    "<b>Explore file #3 holidays_events.csv</b>"
   ]
  },
  {
   "cell_type": "code",
   "execution_count": null,
   "metadata": {
    "collapsed": true
   },
   "outputs": [],
   "source": [
    "sdfHolidayEvents = sqlContext.read.csv(\"/gl-capstone-data/Team6-C-Sep/Data/holidays_events.csv\",header = True,inferSchema = True)"
   ]
  },
  {
   "cell_type": "code",
   "execution_count": 20,
   "metadata": {},
   "outputs": [
    {
     "data": {
      "text/plain": [
       "350"
      ]
     },
     "execution_count": 20,
     "metadata": {},
     "output_type": "execute_result"
    }
   ],
   "source": [
    "sdfHolidayEvents.count()"
   ]
  },
  {
   "cell_type": "code",
   "execution_count": 21,
   "metadata": {},
   "outputs": [
    {
     "name": "stdout",
     "output_type": "stream",
     "text": [
      "+-----+\n",
      "|count|\n",
      "+-----+\n",
      "|  312|\n",
      "+-----+\n",
      "\n"
     ]
    }
   ],
   "source": [
    "sdfHolidayEvents.agg(countDistinct(col(\"date\")).alias(\"count\")).show()"
   ]
  },
  {
   "cell_type": "code",
   "execution_count": 28,
   "metadata": {},
   "outputs": [
    {
     "data": {
      "text/plain": [
       "312"
      ]
     },
     "execution_count": 28,
     "metadata": {},
     "output_type": "execute_result"
    }
   ],
   "source": [
    "sdfHolidayEvents.select(\"date\").distinct().count()"
   ]
  },
  {
   "cell_type": "code",
   "execution_count": 24,
   "metadata": {},
   "outputs": [
    {
     "name": "stdout",
     "output_type": "stream",
     "text": [
      "+----------+\n",
      "|      type|\n",
      "+----------+\n",
      "|     Event|\n",
      "|   Holiday|\n",
      "|  Transfer|\n",
      "|    Bridge|\n",
      "|Additional|\n",
      "|  Work Day|\n",
      "+----------+\n",
      "\n"
     ]
    }
   ],
   "source": [
    "sdfHolidayEvents.select(\"type\").distinct().show()"
   ]
  },
  {
   "cell_type": "code",
   "execution_count": 25,
   "metadata": {},
   "outputs": [
    {
     "name": "stdout",
     "output_type": "stream",
     "text": [
      "+--------+\n",
      "|  locale|\n",
      "+--------+\n",
      "|National|\n",
      "|   Local|\n",
      "|Regional|\n",
      "+--------+\n",
      "\n"
     ]
    }
   ],
   "source": [
    "sdfHolidayEvents.select(\"locale\").distinct().show()"
   ]
  },
  {
   "cell_type": "code",
   "execution_count": 27,
   "metadata": {},
   "outputs": [
    {
     "data": {
      "text/plain": [
       "24"
      ]
     },
     "execution_count": 27,
     "metadata": {},
     "output_type": "execute_result"
    }
   ],
   "source": [
    "sdfHolidayEvents.select(\"locale_name\").distinct().count()"
   ]
  },
  {
   "cell_type": "code",
   "execution_count": 29,
   "metadata": {},
   "outputs": [
    {
     "data": {
      "text/plain": [
       "349"
      ]
     },
     "execution_count": 29,
     "metadata": {},
     "output_type": "execute_result"
    }
   ],
   "source": [
    "sdfHolidayEvents.select(\"date\", \"type\", \"locale_name\").distinct().count()"
   ]
  },
  {
   "cell_type": "code",
   "execution_count": 33,
   "metadata": {},
   "outputs": [
    {
     "data": {
      "text/plain": [
       "350"
      ]
     },
     "execution_count": 33,
     "metadata": {},
     "output_type": "execute_result"
    }
   ],
   "source": [
    "sdfHolidayEvents.select(\"date\", \"type\", \"locale\", \"locale_name\", \"description\", \"transferred\").distinct().count()\n",
    "# All columns together form the PK"
   ]
  },
  {
   "cell_type": "code",
   "execution_count": 4,
   "metadata": {},
   "outputs": [
    {
     "name": "stdout",
     "output_type": "stream",
     "text": [
      "+----+----+------+-----------+-----------+-----------+\n",
      "|date|type|locale|locale_name|description|transferred|\n",
      "+----+----+------+-----------+-----------+-----------+\n",
      "|   0|   0|     0|          0|          0|          0|\n",
      "+----+----+------+-----------+-----------+-----------+\n",
      "\n"
     ]
    }
   ],
   "source": [
    "sdfHolidayEvents.select([count(when(col(c).isNull(), c)).alias(c) for c in sdfHolidayEvents.columns]).show()"
   ]
  },
  {
   "cell_type": "code",
   "execution_count": 5,
   "metadata": {},
   "outputs": [
    {
     "data": {
      "text/plain": [
       "312"
      ]
     },
     "execution_count": 5,
     "metadata": {},
     "output_type": "execute_result"
    }
   ],
   "source": [
    "sdfHolidayEvents.select(\"date\").distinct().count()"
   ]
  },
  {
   "cell_type": "code",
   "execution_count": 6,
   "metadata": {},
   "outputs": [
    {
     "name": "stdout",
     "output_type": "stream",
     "text": [
      "+-------------------+\n",
      "|               date|\n",
      "+-------------------+\n",
      "|2016-12-24 00:00:00|\n",
      "|2015-09-28 00:00:00|\n",
      "|2012-05-12 00:00:00|\n",
      "|2013-02-12 00:00:00|\n",
      "|2013-10-11 00:00:00|\n",
      "+-------------------+\n",
      "only showing top 5 rows\n",
      "\n"
     ]
    }
   ],
   "source": [
    "sdfHolidayEvents.select(\"date\").distinct().show(5)"
   ]
  },
  {
   "cell_type": "code",
   "execution_count": 7,
   "metadata": {},
   "outputs": [
    {
     "data": {
      "text/plain": [
       "6"
      ]
     },
     "execution_count": 7,
     "metadata": {},
     "output_type": "execute_result"
    }
   ],
   "source": [
    "sdfHolidayEvents.select(\"type\").distinct().count()"
   ]
  },
  {
   "cell_type": "code",
   "execution_count": 9,
   "metadata": {},
   "outputs": [
    {
     "name": "stdout",
     "output_type": "stream",
     "text": [
      "+----------+\n",
      "|      type|\n",
      "+----------+\n",
      "|     Event|\n",
      "|   Holiday|\n",
      "|  Transfer|\n",
      "|    Bridge|\n",
      "|Additional|\n",
      "|  Work Day|\n",
      "+----------+\n",
      "\n"
     ]
    }
   ],
   "source": [
    "sdfHolidayEvents.select(\"type\").distinct().show(10)"
   ]
  },
  {
   "cell_type": "code",
   "execution_count": 10,
   "metadata": {},
   "outputs": [
    {
     "data": {
      "text/plain": [
       "3"
      ]
     },
     "execution_count": 10,
     "metadata": {},
     "output_type": "execute_result"
    }
   ],
   "source": [
    "sdfHolidayEvents.select(\"locale\").distinct().count()"
   ]
  },
  {
   "cell_type": "code",
   "execution_count": 11,
   "metadata": {},
   "outputs": [
    {
     "name": "stdout",
     "output_type": "stream",
     "text": [
      "+--------+\n",
      "|  locale|\n",
      "+--------+\n",
      "|National|\n",
      "|   Local|\n",
      "|Regional|\n",
      "+--------+\n",
      "\n"
     ]
    }
   ],
   "source": [
    "sdfHolidayEvents.select(\"locale\").distinct().show(5)"
   ]
  },
  {
   "cell_type": "code",
   "execution_count": 12,
   "metadata": {},
   "outputs": [
    {
     "data": {
      "text/plain": [
       "24"
      ]
     },
     "execution_count": 12,
     "metadata": {},
     "output_type": "execute_result"
    }
   ],
   "source": [
    "sdfHolidayEvents.select(\"locale_name\").distinct().count()"
   ]
  },
  {
   "cell_type": "code",
   "execution_count": 13,
   "metadata": {},
   "outputs": [
    {
     "name": "stdout",
     "output_type": "stream",
     "text": [
      "+-------------+\n",
      "|  locale_name|\n",
      "+-------------+\n",
      "|      Quevedo|\n",
      "|       Cuenca|\n",
      "|     Cotopaxi|\n",
      "|     Guaranda|\n",
      "|Santo Domingo|\n",
      "+-------------+\n",
      "only showing top 5 rows\n",
      "\n"
     ]
    }
   ],
   "source": [
    "sdfHolidayEvents.select(\"locale_name\").distinct().show(5)"
   ]
  },
  {
   "cell_type": "code",
   "execution_count": 14,
   "metadata": {},
   "outputs": [
    {
     "data": {
      "text/plain": [
       "103"
      ]
     },
     "execution_count": 14,
     "metadata": {},
     "output_type": "execute_result"
    }
   ],
   "source": [
    "sdfHolidayEvents.select(\"description\").distinct().count()"
   ]
  },
  {
   "cell_type": "code",
   "execution_count": 15,
   "metadata": {},
   "outputs": [
    {
     "name": "stdout",
     "output_type": "stream",
     "text": [
      "+--------------------+\n",
      "|         description|\n",
      "+--------------------+\n",
      "| Terremoto Manabi+11|\n",
      "|Independencia de ...|\n",
      "| Terremoto Manabi+25|\n",
      "|Fundacion de Esme...|\n",
      "|        Black Friday|\n",
      "+--------------------+\n",
      "only showing top 5 rows\n",
      "\n"
     ]
    }
   ],
   "source": [
    "sdfHolidayEvents.select(\"description\").distinct().show(5)"
   ]
  },
  {
   "cell_type": "code",
   "execution_count": 16,
   "metadata": {},
   "outputs": [
    {
     "data": {
      "text/plain": [
       "2"
      ]
     },
     "execution_count": 16,
     "metadata": {},
     "output_type": "execute_result"
    }
   ],
   "source": [
    "sdfHolidayEvents.select(\"transferred\").distinct().count()"
   ]
  },
  {
   "cell_type": "code",
   "execution_count": null,
   "metadata": {
    "collapsed": true
   },
   "outputs": [],
   "source": [
    "sdfHolidayEvents.select(\"transferred\").distinct().show(5)"
   ]
  },
  {
   "cell_type": "markdown",
   "metadata": {},
   "source": [
    "<b>Explore file #4 items.csv</b>"
   ]
  },
  {
   "cell_type": "code",
   "execution_count": 12,
   "metadata": {
    "collapsed": true
   },
   "outputs": [],
   "source": [
    "sdfItems = sqlContext.read.csv(\"/gl-capstone-data/Team6-C-Sep/Data/items.csv\",header = True,inferSchema = True)"
   ]
  },
  {
   "cell_type": "code",
   "execution_count": 35,
   "metadata": {},
   "outputs": [
    {
     "data": {
      "text/plain": [
       "4100"
      ]
     },
     "execution_count": 35,
     "metadata": {},
     "output_type": "execute_result"
    }
   ],
   "source": [
    "sdfItems.count()"
   ]
  },
  {
   "cell_type": "code",
   "execution_count": 36,
   "metadata": {},
   "outputs": [
    {
     "data": {
      "text/plain": [
       "4100"
      ]
     },
     "execution_count": 36,
     "metadata": {},
     "output_type": "execute_result"
    }
   ],
   "source": [
    "sdfItems.select(\"item_nbr\").distinct().count()\n",
    "# item_nbr is the primary key as distinct count and total row count match"
   ]
  },
  {
   "cell_type": "code",
   "execution_count": 4,
   "metadata": {},
   "outputs": [
    {
     "name": "stdout",
     "output_type": "stream",
     "text": [
      "+--------+------+-----+----------+\n",
      "|item_nbr|family|class|perishable|\n",
      "+--------+------+-----+----------+\n",
      "|       0|     0|    0|         0|\n",
      "+--------+------+-----+----------+\n",
      "\n"
     ]
    }
   ],
   "source": [
    "sdfItems.select([count(when(col(c).isNull(), c)).alias(c) for c in sdfItems.columns]).show()"
   ]
  },
  {
   "cell_type": "code",
   "execution_count": 6,
   "metadata": {},
   "outputs": [
    {
     "data": {
      "text/plain": [
       "4100"
      ]
     },
     "execution_count": 6,
     "metadata": {},
     "output_type": "execute_result"
    }
   ],
   "source": [
    "sdfItems.select(\"item_nbr\").distinct().count()"
   ]
  },
  {
   "cell_type": "code",
   "execution_count": 7,
   "metadata": {},
   "outputs": [
    {
     "name": "stdout",
     "output_type": "stream",
     "text": [
      "+--------+\n",
      "|item_nbr|\n",
      "+--------+\n",
      "|  454593|\n",
      "|  459762|\n",
      "|  692531|\n",
      "|  699703|\n",
      "|  759651|\n",
      "+--------+\n",
      "only showing top 5 rows\n",
      "\n"
     ]
    }
   ],
   "source": [
    "sdfItems.select(\"item_nbr\").distinct().show(5)"
   ]
  },
  {
   "cell_type": "code",
   "execution_count": 8,
   "metadata": {},
   "outputs": [
    {
     "data": {
      "text/plain": [
       "33"
      ]
     },
     "execution_count": 8,
     "metadata": {},
     "output_type": "execute_result"
    }
   ],
   "source": [
    "sdfItems.select(\"family\").distinct().count()"
   ]
  },
  {
   "cell_type": "code",
   "execution_count": 10,
   "metadata": {},
   "outputs": [
    {
     "name": "stdout",
     "output_type": "stream",
     "text": [
      "+-------------------+\n",
      "|             family|\n",
      "+-------------------+\n",
      "|     PREPARED FOODS|\n",
      "|HOME AND KITCHEN II|\n",
      "|         LADIESWEAR|\n",
      "|    LAWN AND GARDEN|\n",
      "|          GROCERY I|\n",
      "|          BABY CARE|\n",
      "|            PRODUCE|\n",
      "|         AUTOMOTIVE|\n",
      "|          BEVERAGES|\n",
      "|          HOME CARE|\n",
      "+-------------------+\n",
      "only showing top 10 rows\n",
      "\n"
     ]
    }
   ],
   "source": [
    "sdfItems.select(\"family\").distinct().show(10)"
   ]
  },
  {
   "cell_type": "code",
   "execution_count": 11,
   "metadata": {},
   "outputs": [
    {
     "data": {
      "text/plain": [
       "337"
      ]
     },
     "execution_count": 11,
     "metadata": {},
     "output_type": "execute_result"
    }
   ],
   "source": [
    "sdfItems.select(\"class\").distinct().count()"
   ]
  },
  {
   "cell_type": "code",
   "execution_count": 12,
   "metadata": {},
   "outputs": [
    {
     "name": "stdout",
     "output_type": "stream",
     "text": [
      "+-----+\n",
      "|class|\n",
      "+-----+\n",
      "| 2142|\n",
      "| 1088|\n",
      "| 2122|\n",
      "| 1084|\n",
      "| 1025|\n",
      "+-----+\n",
      "only showing top 5 rows\n",
      "\n"
     ]
    }
   ],
   "source": [
    "sdfItems.select(\"class\").distinct().show(5)"
   ]
  },
  {
   "cell_type": "code",
   "execution_count": 13,
   "metadata": {},
   "outputs": [
    {
     "data": {
      "text/plain": [
       "[1068.0]"
      ]
     },
     "execution_count": 13,
     "metadata": {},
     "output_type": "execute_result"
    }
   ],
   "source": [
    "sdfItems.approxQuantile(\"class\", [0.5], 0.25)\n",
    "#median"
   ]
  },
  {
   "cell_type": "code",
   "execution_count": 14,
   "metadata": {},
   "outputs": [
    {
     "data": {
      "text/plain": [
       "<matplotlib.axes._subplots.AxesSubplot at 0x7fdb3b99c410>"
      ]
     },
     "execution_count": 14,
     "metadata": {},
     "output_type": "execute_result"
    },
    {
     "data": {
      "image/png": "[encoded data removed]",
      "text/plain": [
       "<matplotlib.figure.Figure at 0x7fdb54a55a10>"
      ]
     },
     "metadata": {},
     "output_type": "display_data"
    }
   ],
   "source": [
    "classes = sdfItems.select(\"class\").collect()\n",
    "sns.distplot(classes, color=p)"
   ]
  },
  {
   "cell_type": "code",
   "execution_count": 15,
   "metadata": {},
   "outputs": [
    {
     "data": {
      "text/plain": [
       "2"
      ]
     },
     "execution_count": 15,
     "metadata": {},
     "output_type": "execute_result"
    }
   ],
   "source": [
    "sdfItems.select(\"perishable\").distinct().count()"
   ]
  },
  {
   "cell_type": "code",
   "execution_count": 16,
   "metadata": {},
   "outputs": [
    {
     "name": "stdout",
     "output_type": "stream",
     "text": [
      "+----------+\n",
      "|perishable|\n",
      "+----------+\n",
      "|         1|\n",
      "|         0|\n",
      "+----------+\n",
      "\n"
     ]
    }
   ],
   "source": [
    "sdfItems.select(\"perishable\").distinct().show(5)"
   ]
  },
  {
   "cell_type": "markdown",
   "metadata": {},
   "source": [
    "<b>Explore file #5 transactions.csv</b>"
   ]
  },
  {
   "cell_type": "code",
   "execution_count": 3,
   "metadata": {
    "collapsed": true
   },
   "outputs": [],
   "source": [
    "sdfTransactions = sqlContext.read.csv(\"/gl-capstone-data/Team6-C-Sep/Data/transactions.csv\",header = True,inferSchema = True)"
   ]
  },
  {
   "cell_type": "code",
   "execution_count": 39,
   "metadata": {},
   "outputs": [
    {
     "data": {
      "text/plain": [
       "83488"
      ]
     },
     "execution_count": 39,
     "metadata": {},
     "output_type": "execute_result"
    }
   ],
   "source": [
    "sdfTransactions.count()"
   ]
  },
  {
   "cell_type": "code",
   "execution_count": 41,
   "metadata": {},
   "outputs": [
    {
     "data": {
      "text/plain": [
       "83488"
      ]
     },
     "execution_count": 41,
     "metadata": {},
     "output_type": "execute_result"
    }
   ],
   "source": [
    "sdfTransactions.select(\"date\", \"store_nbr\").distinct().count()\n",
    "# date, store_nbr together form the primary key as distinct count and total row count match"
   ]
  },
  {
   "cell_type": "code",
   "execution_count": 4,
   "metadata": {},
   "outputs": [
    {
     "name": "stdout",
     "output_type": "stream",
     "text": [
      "+----+---------+------------+\n",
      "|date|store_nbr|transactions|\n",
      "+----+---------+------------+\n",
      "|   0|        0|           0|\n",
      "+----+---------+------------+\n",
      "\n"
     ]
    }
   ],
   "source": [
    "sdfTransactions.select([count(when(col(c).isNull(), c)).alias(c) for c in sdfTransactions.columns]).show()"
   ]
  },
  {
   "cell_type": "code",
   "execution_count": 5,
   "metadata": {},
   "outputs": [
    {
     "data": {
      "text/plain": [
       "1682"
      ]
     },
     "execution_count": 5,
     "metadata": {},
     "output_type": "execute_result"
    }
   ],
   "source": [
    "sdfTransactions.select(\"date\").distinct().count()"
   ]
  },
  {
   "cell_type": "code",
   "execution_count": 6,
   "metadata": {},
   "outputs": [
    {
     "name": "stdout",
     "output_type": "stream",
     "text": [
      "+-------------------+\n",
      "|               date|\n",
      "+-------------------+\n",
      "|2013-10-31 00:00:00|\n",
      "|2014-08-04 00:00:00|\n",
      "|2015-04-26 00:00:00|\n",
      "|2015-07-14 00:00:00|\n",
      "|2015-10-10 00:00:00|\n",
      "+-------------------+\n",
      "only showing top 5 rows\n",
      "\n"
     ]
    }
   ],
   "source": [
    "sdfTransactions.select(\"date\").distinct().show(5)"
   ]
  },
  {
   "cell_type": "code",
   "execution_count": 7,
   "metadata": {},
   "outputs": [
    {
     "data": {
      "text/plain": [
       "54"
      ]
     },
     "execution_count": 7,
     "metadata": {},
     "output_type": "execute_result"
    }
   ],
   "source": [
    "sdfTransactions.select(\"store_nbr\").distinct().count()"
   ]
  },
  {
   "cell_type": "code",
   "execution_count": 8,
   "metadata": {
    "scrolled": true
   },
   "outputs": [
    {
     "name": "stdout",
     "output_type": "stream",
     "text": [
      "+---------+\n",
      "|store_nbr|\n",
      "+---------+\n",
      "|       31|\n",
      "|       53|\n",
      "|       34|\n",
      "|       28|\n",
      "|       26|\n",
      "+---------+\n",
      "only showing top 5 rows\n",
      "\n"
     ]
    }
   ],
   "source": [
    "sdfTransactions.select(\"store_nbr\").distinct().show(5)"
   ]
  },
  {
   "cell_type": "code",
   "execution_count": 9,
   "metadata": {},
   "outputs": [
    {
     "data": {
      "text/plain": [
       "4993"
      ]
     },
     "execution_count": 9,
     "metadata": {},
     "output_type": "execute_result"
    }
   ],
   "source": [
    "sdfTransactions.select(\"transactions\").distinct().count()"
   ]
  },
  {
   "cell_type": "code",
   "execution_count": 10,
   "metadata": {},
   "outputs": [
    {
     "name": "stdout",
     "output_type": "stream",
     "text": [
      "+------------+\n",
      "|transactions|\n",
      "+------------+\n",
      "|        1580|\n",
      "|        1238|\n",
      "|        4935|\n",
      "|        1591|\n",
      "|        2142|\n",
      "+------------+\n",
      "only showing top 5 rows\n",
      "\n"
     ]
    }
   ],
   "source": [
    "sdfTransactions.select(\"transactions\").distinct().show(5)"
   ]
  },
  {
   "cell_type": "code",
   "execution_count": 11,
   "metadata": {},
   "outputs": [
    {
     "data": {
      "text/plain": [
       "[1070.0]"
      ]
     },
     "execution_count": 11,
     "metadata": {},
     "output_type": "execute_result"
    }
   ],
   "source": [
    "sdfTransactions.approxQuantile(\"transactions\", [0.5], 0.25)\n",
    "#median"
   ]
  },
  {
   "cell_type": "code",
   "execution_count": 12,
   "metadata": {},
   "outputs": [
    {
     "data": {
      "text/plain": [
       "<matplotlib.axes._subplots.AxesSubplot at 0x7f49402a2190>"
      ]
     },
     "execution_count": 12,
     "metadata": {},
     "output_type": "execute_result"
    },
    {
     "data": {
      "image/png": "[encoded data removed]",
      "text/plain": [
       "<matplotlib.figure.Figure at 0x7f49402a2810>"
      ]
     },
     "metadata": {},
     "output_type": "display_data"
    }
   ],
   "source": [
    "trans = sdfTransactions.select(\"transactions\").collect()\n",
    "sns.distplot(trans, color=p)"
   ]
  },
  {
   "cell_type": "code",
   "execution_count": 13,
   "metadata": {},
   "outputs": [
    {
     "name": "stdout",
     "output_type": "stream",
     "text": [
      "2013-01-01 00:00:00\n"
     ]
    }
   ],
   "source": [
    "minRow = sdfTransactions.agg({\"date\": \"min\"}).collect()[0]\n",
    "print minRow[\"min(date)\"]"
   ]
  },
  {
   "cell_type": "code",
   "execution_count": 14,
   "metadata": {},
   "outputs": [
    {
     "name": "stdout",
     "output_type": "stream",
     "text": [
      "2017-08-15 00:00:00\n"
     ]
    }
   ],
   "source": [
    "maxRow = sdfTransactions.agg({\"date\": \"max\"}).collect()[0]\n",
    "print maxRow[\"max(date)\"]"
   ]
  },
  {
   "cell_type": "code",
   "execution_count": 15,
   "metadata": {},
   "outputs": [
    {
     "name": "stdout",
     "output_type": "stream",
     "text": [
      "+-------------------+---------+------------+\n",
      "|               date|store_nbr|transactions|\n",
      "+-------------------+---------+------------+\n",
      "|2014-05-29 00:00:00|       53|        2545|\n",
      "|2014-05-30 00:00:00|       53|        1398|\n",
      "|2014-05-31 00:00:00|       53|        1812|\n",
      "|2014-06-01 00:00:00|       53|        2221|\n",
      "|2014-06-02 00:00:00|       53|        1085|\n",
      "|2014-06-03 00:00:00|       53|         958|\n",
      "|2014-06-04 00:00:00|       53|        1059|\n",
      "|2014-06-05 00:00:00|       53|         888|\n",
      "|2014-06-06 00:00:00|       53|         941|\n",
      "|2014-06-07 00:00:00|       53|        1336|\n",
      "|2014-06-08 00:00:00|       53|        1523|\n",
      "|2014-06-09 00:00:00|       53|         803|\n",
      "|2014-06-10 00:00:00|       53|         689|\n",
      "|2014-06-11 00:00:00|       53|         800|\n",
      "|2014-06-12 00:00:00|       53|         695|\n",
      "|2014-06-13 00:00:00|       53|         841|\n",
      "|2014-06-14 00:00:00|       53|        1376|\n",
      "|2014-06-15 00:00:00|       53|        1288|\n",
      "|2014-06-16 00:00:00|       53|         796|\n",
      "|2014-06-17 00:00:00|       53|         727|\n",
      "+-------------------+---------+------------+\n",
      "only showing top 20 rows\n",
      "\n"
     ]
    }
   ],
   "source": [
    "sdfTransactions.filter(sdfTransactions.store_nbr == 53).show()"
   ]
  },
  {
   "cell_type": "code",
   "execution_count": 17,
   "metadata": {},
   "outputs": [
    {
     "data": {
      "text/plain": [
       "1167"
      ]
     },
     "execution_count": 17,
     "metadata": {},
     "output_type": "execute_result"
    }
   ],
   "source": [
    "sdfTransactions.filter(sdfTransactions.store_nbr == 53).count()"
   ]
  },
  {
   "cell_type": "code",
   "execution_count": 18,
   "metadata": {},
   "outputs": [
    {
     "data": {
      "text/plain": [
       "1678"
      ]
     },
     "execution_count": 18,
     "metadata": {},
     "output_type": "execute_result"
    }
   ],
   "source": [
    "sdfTransactions.filter(sdfTransactions.store_nbr == 34).count()"
   ]
  },
  {
   "cell_type": "markdown",
   "metadata": {},
   "source": [
    "<b>Explore  file #6 sample_submission.csv</b>"
   ]
  },
  {
   "cell_type": "code",
   "execution_count": 11,
   "metadata": {
    "collapsed": true
   },
   "outputs": [],
   "source": [
    "sdfSampleSubmission = sqlContext.read.csv(\"/gl-capstone-data/Team6-C-Sep/Data/sample_submission.csv\",header = True,inferSchema = True)"
   ]
  },
  {
   "cell_type": "code",
   "execution_count": 43,
   "metadata": {},
   "outputs": [
    {
     "data": {
      "text/plain": [
       "3370464"
      ]
     },
     "execution_count": 43,
     "metadata": {},
     "output_type": "execute_result"
    }
   ],
   "source": [
    "sdfSampleSubmission.count()"
   ]
  },
  {
   "cell_type": "code",
   "execution_count": 44,
   "metadata": {},
   "outputs": [
    {
     "data": {
      "text/plain": [
       "3370464"
      ]
     },
     "execution_count": 44,
     "metadata": {},
     "output_type": "execute_result"
    }
   ],
   "source": [
    "sdfSampleSubmission.select(\"id\").distinct().count()\n",
    "# id is the primary key as distinct count and total row count match"
   ]
  },
  {
   "cell_type": "code",
   "execution_count": 12,
   "metadata": {},
   "outputs": [
    {
     "name": "stdout",
     "output_type": "stream",
     "text": [
      "+---+----------+\n",
      "| id|unit_sales|\n",
      "+---+----------+\n",
      "|  0|         0|\n",
      "+---+----------+\n",
      "\n"
     ]
    }
   ],
   "source": [
    "sdfSampleSubmission.select([count(when(col(c).isNull(), c)).alias(c) for c in sdfSampleSubmission.columns]).show()"
   ]
  },
  {
   "cell_type": "code",
   "execution_count": 13,
   "metadata": {},
   "outputs": [
    {
     "data": {
      "text/plain": [
       "3370464"
      ]
     },
     "execution_count": 13,
     "metadata": {},
     "output_type": "execute_result"
    }
   ],
   "source": [
    "sdfSampleSubmission.filter(sdfSampleSubmission.unit_sales ==0).count()\n",
    "#All records contain zero. This column needs to be filled with prediction."
   ]
  },
  {
   "cell_type": "markdown",
   "metadata": {},
   "source": [
    "<b>Explore file #7 test.csv</b>"
   ]
  },
  {
   "cell_type": "code",
   "execution_count": 5,
   "metadata": {
    "collapsed": true
   },
   "outputs": [],
   "source": [
    "sdfTest = sqlContext.read.csv(\"/gl-capstone-data/Team6-C-Sep/Data/test.csv\",header = True,inferSchema = True)"
   ]
  },
  {
   "cell_type": "code",
   "execution_count": 46,
   "metadata": {},
   "outputs": [
    {
     "data": {
      "text/plain": [
       "3370464"
      ]
     },
     "execution_count": 46,
     "metadata": {},
     "output_type": "execute_result"
    }
   ],
   "source": [
    "sdfTest.count()"
   ]
  },
  {
   "cell_type": "code",
   "execution_count": 47,
   "metadata": {},
   "outputs": [
    {
     "data": {
      "text/plain": [
       "3370464"
      ]
     },
     "execution_count": 47,
     "metadata": {},
     "output_type": "execute_result"
    }
   ],
   "source": [
    "sdfTest.select(\"id\").distinct().count()"
   ]
  },
  {
   "cell_type": "code",
   "execution_count": 4,
   "metadata": {},
   "outputs": [
    {
     "name": "stdout",
     "output_type": "stream",
     "text": [
      "+---+----+---------+--------+-----------+\n",
      "| id|date|store_nbr|item_nbr|onpromotion|\n",
      "+---+----+---------+--------+-----------+\n",
      "|  0|   0|        0|       0|          0|\n",
      "+---+----+---------+--------+-----------+\n",
      "\n"
     ]
    }
   ],
   "source": [
    "sdfTest.select([count(when(col(c).isNull(), c)).alias(c) for c in sdfTest.columns]).show()"
   ]
  },
  {
   "cell_type": "code",
   "execution_count": 5,
   "metadata": {},
   "outputs": [
    {
     "data": {
      "text/plain": [
       "3370464"
      ]
     },
     "execution_count": 5,
     "metadata": {},
     "output_type": "execute_result"
    }
   ],
   "source": [
    "sdfTest.select(\"date\", \"store_nbr\", \"item_nbr\").distinct().count()\n",
    "#id is an artificial primary key. The unique set of columns are \"date\", \"store_nbr\", \"item_nbr\"."
   ]
  },
  {
   "cell_type": "code",
   "execution_count": 6,
   "metadata": {},
   "outputs": [
    {
     "name": "stdout",
     "output_type": "stream",
     "text": [
      "2017-08-16 00:00:00\n"
     ]
    }
   ],
   "source": [
    "minRow = sdfTest.agg({\"date\": \"min\"}).collect()[0]\n",
    "print minRow[\"min(date)\"]"
   ]
  },
  {
   "cell_type": "code",
   "execution_count": 8,
   "metadata": {},
   "outputs": [
    {
     "name": "stdout",
     "output_type": "stream",
     "text": [
      "2017-08-31 00:00:00\n"
     ]
    }
   ],
   "source": [
    "maxRow = sdfTest.agg({\"date\": \"max\"}).collect()[0]\n",
    "print maxRow[\"max(date)\"]"
   ]
  },
  {
   "cell_type": "code",
   "execution_count": 9,
   "metadata": {},
   "outputs": [
    {
     "data": {
      "text/plain": [
       "2"
      ]
     },
     "execution_count": 9,
     "metadata": {},
     "output_type": "execute_result"
    }
   ],
   "source": [
    "sdfTest.select(\"onpromotion\").distinct().count()"
   ]
  },
  {
   "cell_type": "code",
   "execution_count": 10,
   "metadata": {},
   "outputs": [
    {
     "name": "stdout",
     "output_type": "stream",
     "text": [
      "+-----------+\n",
      "|onpromotion|\n",
      "+-----------+\n",
      "|       true|\n",
      "|      false|\n",
      "+-----------+\n",
      "\n"
     ]
    }
   ],
   "source": [
    "sdfTest.select(\"onpromotion\").distinct().show(5)"
   ]
  },
  {
   "cell_type": "markdown",
   "metadata": {},
   "source": [
    "<b>Explore file #8 train.csv </b>"
   ]
  },
  {
   "cell_type": "code",
   "execution_count": 3,
   "metadata": {
    "collapsed": true
   },
   "outputs": [],
   "source": [
    "sdfTrain = sqlContext.read.csv(\"/gl-capstone-data/Team6-C-Sep/Data/train/train.csv\",header = True,inferSchema = True)"
   ]
  },
  {
   "cell_type": "code",
   "execution_count": 4,
   "metadata": {},
   "outputs": [
    {
     "data": {
      "text/plain": [
       "125497040"
      ]
     },
     "execution_count": 4,
     "metadata": {},
     "output_type": "execute_result"
    }
   ],
   "source": [
    "sdfTrain.count()"
   ]
  },
  {
   "cell_type": "code",
   "execution_count": 5,
   "metadata": {},
   "outputs": [
    {
     "data": {
      "text/plain": [
       "125497040"
      ]
     },
     "execution_count": 5,
     "metadata": {},
     "output_type": "execute_result"
    }
   ],
   "source": [
    "sdfTrain.select(\"id\").distinct().count()\n",
    "# id is the primary key as distinct count and total row count match"
   ]
  },
  {
   "cell_type": "code",
   "execution_count": 6,
   "metadata": {},
   "outputs": [
    {
     "name": "stdout",
     "output_type": "stream",
     "text": [
      "+---+----+---------+--------+----------+-----------+\n",
      "| id|date|store_nbr|item_nbr|unit_sales|onpromotion|\n",
      "+---+----+---------+--------+----------+-----------+\n",
      "|  0|   0|        0|       0|         0|   21657651|\n",
      "+---+----+---------+--------+----------+-----------+\n",
      "\n"
     ]
    }
   ],
   "source": [
    "sdfTrain.select([count(when(col(c).isNull(), c)).alias(c) for c in sdfTrain.columns]).show()"
   ]
  },
  {
   "cell_type": "code",
   "execution_count": 7,
   "metadata": {},
   "outputs": [
    {
     "data": {
      "text/plain": [
       "[6.0]"
      ]
     },
     "execution_count": 7,
     "metadata": {},
     "output_type": "execute_result"
    }
   ],
   "source": [
    "sdfTrain.approxQuantile(\"unit_sales\", [0.5], 0.25)\n",
    "#median"
   ]
  },
  {
   "cell_type": "code",
   "execution_count": 8,
   "metadata": {},
   "outputs": [
    {
     "name": "stdout",
     "output_type": "stream",
     "text": [
      "2013-01-01 00:00:00\n"
     ]
    }
   ],
   "source": [
    "minRowTrain = sdfTrain.agg({\"date\": \"min\"}).collect()[0]\n",
    "print minRowTrain[\"min(date)\"]"
   ]
  },
  {
   "cell_type": "code",
   "execution_count": 9,
   "metadata": {},
   "outputs": [
    {
     "name": "stdout",
     "output_type": "stream",
     "text": [
      "2017-08-15 00:00:00\n"
     ]
    }
   ],
   "source": [
    "maxRowTrain = sdfTrain.agg({\"date\": \"max\"}).collect()[0]\n",
    "print maxRowTrain[\"max(date)\"]"
   ]
  },
  {
   "cell_type": "code",
   "execution_count": 7,
   "metadata": {},
   "outputs": [
    {
     "data": {
      "text/plain": [
       "3"
      ]
     },
     "execution_count": 7,
     "metadata": {},
     "output_type": "execute_result"
    }
   ],
   "source": [
    "sdfTrain.select(\"onpromotion\").distinct().count()"
   ]
  },
  {
   "cell_type": "code",
   "execution_count": 8,
   "metadata": {},
   "outputs": [
    {
     "name": "stdout",
     "output_type": "stream",
     "text": [
      "+-----------+\n",
      "|onpromotion|\n",
      "+-----------+\n",
      "|       null|\n",
      "|       true|\n",
      "|      false|\n",
      "+-----------+\n",
      "\n"
     ]
    }
   ],
   "source": [
    "sdfTrain.select(\"onpromotion\").distinct().show(10)"
   ]
  },
  {
   "cell_type": "code",
   "execution_count": null,
   "metadata": {},
   "outputs": [],
   "source": [
    "#unit_sales = sdfTrain.select(\"unit_sales\").collect()\n",
    "#sns.distplot(unit_sales, color=p)\n",
    "\n",
    "#Could not get this to work. Got the below error:\n",
    "#Py4JJavaError: An error occurred while calling o76.collectToPython.\n",
    "#org.apache.spark.SparkException: Job 12 cancelled because SparkContext was shut down\n",
    "\n",
    "#So attempting to split and do the plot"
   ]
  },
  {
   "cell_type": "code",
   "execution_count": 11,
   "metadata": {
    "collapsed": true
   },
   "outputs": [],
   "source": [
    "from pyspark.sql.functions import size"
   ]
  },
  {
   "cell_type": "code",
   "execution_count": 5,
   "metadata": {},
   "outputs": [],
   "source": [
    "#executing\n",
    "unit_sales_2013_m1 = sdfTrain.filter(sdfTrain.date < '2013-02-01 00:00:00').select(\"unit_sales\").collect()"
   ]
  },
  {
   "cell_type": "code",
   "execution_count": null,
   "metadata": {},
   "outputs": [],
   "source": [
    "size(unit_sales_2013_m1)"
   ]
  },
  {
   "cell_type": "code",
   "execution_count": 15,
   "metadata": {},
   "outputs": [
    {
     "data": {
      "text/plain": [
       "[Row(unit_sales=7.0),\n",
       " Row(unit_sales=1.0),\n",
       " Row(unit_sales=2.0),\n",
       " Row(unit_sales=1.0),\n",
       " Row(unit_sales=1.0),\n",
       " Row(unit_sales=3.0),\n",
       " Row(unit_sales=1.0),\n",
       " Row(unit_sales=1.0),\n",
       " Row(unit_sales=13.0),\n",
       " Row(unit_sales=3.0)]"
      ]
     },
     "execution_count": 15,
     "metadata": {},
     "output_type": "execute_result"
    }
   ],
   "source": [
    "unit_sales_2013_m1[0:10]"
   ]
  },
  {
   "cell_type": "code",
   "execution_count": 16,
   "metadata": {},
   "outputs": [
    {
     "data": {
      "text/plain": [
       "<matplotlib.axes._subplots.AxesSubplot at 0x7f88b5225690>"
      ]
     },
     "execution_count": 16,
     "metadata": {},
     "output_type": "execute_result"
    },
    {
     "data": {
      "image/png": "[encoded data removed]",
      "text/plain": [
       "<matplotlib.figure.Figure at 0x7f88b5208490>"
      ]
     },
     "metadata": {},
     "output_type": "display_data"
    }
   ],
   "source": [
    "sns.distplot(unit_sales_2013_m1, hist=False, color=g, kde_kws={\"shade\": True})"
   ]
  },
  {
   "cell_type": "raw",
   "metadata": {},
   "source": [
    "Distribution plot is shown only for Jan 2013 here. The plot for rest of the months and years are shown in separate code files."
   ]
  },
  {
   "cell_type": "markdown",
   "metadata": {},
   "source": [
    "<b>Check relatioship between test and sample_submission </b>"
   ]
  },
  {
   "cell_type": "code",
   "execution_count": 51,
   "metadata": {},
   "outputs": [
    {
     "name": "stdout",
     "output_type": "stream",
     "text": [
      "+---------+-------------------+---------+--------+-----------+\n",
      "|       id|               date|store_nbr|item_nbr|onpromotion|\n",
      "+---------+-------------------+---------+--------+-----------+\n",
      "|125497040|2017-08-16 00:00:00|        1|   96995|      false|\n",
      "|125497041|2017-08-16 00:00:00|        1|   99197|      false|\n",
      "|125497042|2017-08-16 00:00:00|        1|  103501|      false|\n",
      "|125497043|2017-08-16 00:00:00|        1|  103520|      false|\n",
      "|125497044|2017-08-16 00:00:00|        1|  103665|      false|\n",
      "|125497045|2017-08-16 00:00:00|        1|  105574|      false|\n",
      "|125497046|2017-08-16 00:00:00|        1|  105575|      false|\n",
      "|125497047|2017-08-16 00:00:00|        1|  105576|      false|\n",
      "|125497048|2017-08-16 00:00:00|        1|  105577|      false|\n",
      "|125497049|2017-08-16 00:00:00|        1|  105693|      false|\n",
      "+---------+-------------------+---------+--------+-----------+\n",
      "only showing top 10 rows\n",
      "\n",
      "None\n"
     ]
    }
   ],
   "source": [
    "print(sdfTest.show(10))"
   ]
  },
  {
   "cell_type": "code",
   "execution_count": 14,
   "metadata": {
    "collapsed": true
   },
   "outputs": [],
   "source": [
    "sdfSampleSubmission.createOrReplaceTempView(\"vwSampleSubmission\")"
   ]
  },
  {
   "cell_type": "code",
   "execution_count": 55,
   "metadata": {},
   "outputs": [
    {
     "name": "stdout",
     "output_type": "stream",
     "text": [
      "+---------+----------+\n",
      "|       id|unit_sales|\n",
      "+---------+----------+\n",
      "|125497040|         0|\n",
      "|125497041|         0|\n",
      "|125497042|         0|\n",
      "|125497043|         0|\n",
      "|125497044|         0|\n",
      "|125497045|         0|\n",
      "|125497046|         0|\n",
      "|125497047|         0|\n",
      "|125497048|         0|\n",
      "|125497049|         0|\n",
      "+---------+----------+\n",
      "\n"
     ]
    }
   ],
   "source": [
    "sparkSession.sql('select * from vwSampleSubmission where id in (125497040, 125497041, 125497042, 125497043, 125497044, 125497045, 125497046, 125497047, 125497048, 125497049)').show()"
   ]
  },
  {
   "cell_type": "raw",
   "metadata": {},
   "source": [
    "10 records from test are present in sample_submission."
   ]
  },
  {
   "cell_type": "code",
   "execution_count": 6,
   "metadata": {
    "collapsed": true
   },
   "outputs": [],
   "source": [
    "sdfTest.createOrReplaceTempView(\"vwTest\")"
   ]
  },
  {
   "cell_type": "code",
   "execution_count": 16,
   "metadata": {},
   "outputs": [
    {
     "name": "stdout",
     "output_type": "stream",
     "text": [
      "+--------+\n",
      "|count(1)|\n",
      "+--------+\n",
      "| 3370464|\n",
      "+--------+\n",
      "\n"
     ]
    }
   ],
   "source": [
    "sparkSession.sql('select count(*) from vwSampleSubmission, vwTest where vwSampleSubmission.id = vwTest.id').show()"
   ]
  },
  {
   "cell_type": "raw",
   "metadata": {},
   "source": [
    "So concludng that sample_submission contains all the ids from test. We have to give the predictions for unit_sales."
   ]
  },
  {
   "cell_type": "markdown",
   "metadata": {},
   "source": [
    "<b>Check relatioship between test and stores, items </b>"
   ]
  },
  {
   "cell_type": "code",
   "execution_count": 7,
   "metadata": {
    "collapsed": true
   },
   "outputs": [],
   "source": [
    "sdfStores.createOrReplaceTempView(\"vwStores\")"
   ]
  },
  {
   "cell_type": "code",
   "execution_count": 8,
   "metadata": {
    "collapsed": true
   },
   "outputs": [],
   "source": [
    "sdfItems.createOrReplaceTempView(\"vwItems\")"
   ]
  },
  {
   "cell_type": "code",
   "execution_count": 9,
   "metadata": {},
   "outputs": [
    {
     "name": "stdout",
     "output_type": "stream",
     "text": [
      "+------------------------+\n",
      "|count(DISTINCT item_nbr)|\n",
      "+------------------------+\n",
      "|                    3901|\n",
      "+------------------------+\n",
      "\n"
     ]
    }
   ],
   "source": [
    "sparkSession.sql('select count(distinct vwTest.item_nbr)  from vwItems, vwTest where vwItems.item_nbr = vwTest.item_nbr').show()"
   ]
  },
  {
   "cell_type": "raw",
   "metadata": {},
   "source": [
    "test has 3901 items while 4100 items are present in total"
   ]
  },
  {
   "cell_type": "code",
   "execution_count": 10,
   "metadata": {},
   "outputs": [
    {
     "name": "stdout",
     "output_type": "stream",
     "text": [
      "+-------------------------+\n",
      "|count(DISTINCT store_nbr)|\n",
      "+-------------------------+\n",
      "|                       54|\n",
      "+-------------------------+\n",
      "\n"
     ]
    }
   ],
   "source": [
    "sparkSession.sql('select count(distinct vwTest.store_nbr)  from vwStores, vwTest where vwStores.store_nbr = vwTest.store_nbr').show()"
   ]
  },
  {
   "cell_type": "raw",
   "metadata": {},
   "source": [
    "test has data for all the 54 stores"
   ]
  },
  {
   "cell_type": "markdown",
   "metadata": {},
   "source": [
    "<b>Check relatioship between train and stores, items </b>"
   ]
  },
  {
   "cell_type": "code",
   "execution_count": 4,
   "metadata": {
    "collapsed": true
   },
   "outputs": [],
   "source": [
    "sdfStores.createOrReplaceTempView(\"vwStores\")"
   ]
  },
  {
   "cell_type": "code",
   "execution_count": 15,
   "metadata": {
    "collapsed": true
   },
   "outputs": [],
   "source": [
    "sdfItems.createOrReplaceTempView(\"vwItems\")"
   ]
  },
  {
   "cell_type": "code",
   "execution_count": 5,
   "metadata": {
    "collapsed": true
   },
   "outputs": [],
   "source": [
    "sdfTrain.createOrReplaceTempView(\"vwTrain\")"
   ]
  },
  {
   "cell_type": "code",
   "execution_count": 16,
   "metadata": {},
   "outputs": [
    {
     "name": "stdout",
     "output_type": "stream",
     "text": [
      "+------------------------+\n",
      "|count(DISTINCT item_nbr)|\n",
      "+------------------------+\n",
      "|                    4036|\n",
      "+------------------------+\n",
      "\n"
     ]
    }
   ],
   "source": [
    "sparkSession.sql('select count(distinct vwTrain.item_nbr)  from vwItems, vwTrain where vwItems.item_nbr = vwTrain.item_nbr').show()"
   ]
  },
  {
   "cell_type": "raw",
   "metadata": {},
   "source": [
    "train has 4036 items while 4100 items are present in total"
   ]
  },
  {
   "cell_type": "code",
   "execution_count": 6,
   "metadata": {},
   "outputs": [
    {
     "name": "stdout",
     "output_type": "stream",
     "text": [
      "+-------------------------+\n",
      "|count(DISTINCT store_nbr)|\n",
      "+-------------------------+\n",
      "|                       54|\n",
      "+-------------------------+\n",
      "\n"
     ]
    }
   ],
   "source": [
    "sparkSession.sql('select count(distinct vwTrain.store_nbr)  from vwStores, vwTrain where vwStores.store_nbr = vwTrain.store_nbr').show()"
   ]
  },
  {
   "cell_type": "raw",
   "metadata": {
    "collapsed": true
   },
   "source": [
    "train has data for all the 54 stores"
   ]
  }
 ],
 "metadata": {
  "kernelspec": {
   "display_name": "PySpark",
   "language": "python",
   "name": "pyspark"
  },
  "language_info": {
   "codemirror_mode": {
    "name": "ipython",
    "version": 2
   },
   "file_extension": ".py",
   "mimetype": "text/x-python",
   "name": "python",
   "nbconvert_exporter": "python",
   "pygments_lexer": "ipython2",
   "version": "2.7.14"
  }
 },
 "nbformat": 4,
 "nbformat_minor": 2
}
