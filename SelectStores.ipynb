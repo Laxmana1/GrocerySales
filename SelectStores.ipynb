{
 "cells": [
  {
   "cell_type": "code",
   "execution_count": 1,
   "metadata": {
    "collapsed": true
   },
   "outputs": [],
   "source": [
    "from pyspark import SparkContext\n",
    "from pyspark import SQLContext\n",
    "sc = SparkContext()\n",
    "sqlContext = SQLContext(sc)\n",
    "from pyspark.sql import SparkSession\n",
    "sparkSession = SparkSession.builder.getOrCreate()\n",
    "\n",
    "from pyspark.sql.functions import col, countDistinct\n",
    "from pyspark.sql.functions import isnan, when, count, col\n",
    "\n",
    "\n",
    "import matplotlib as plot\n",
    "import matplotlib.pyplot as plt\n",
    "import seaborn as sns\n",
    "%matplotlib inline"
   ]
  },
  {
   "cell_type": "code",
   "execution_count": 3,
   "metadata": {
    "collapsed": true
   },
   "outputs": [],
   "source": [
    "sdfTransactions = sqlContext.read.csv(\"/gl-capstone-data/Team6-C-Sep/Data/transactions.csv\",header = True,inferSchema = True)"
   ]
  },
  {
   "cell_type": "code",
   "execution_count": 4,
   "metadata": {
    "collapsed": true
   },
   "outputs": [],
   "source": [
    "sqlContext.registerDataFrameAsTable(sdfTransactions, \"sdfTransactionsTbl\")"
   ]
  },
  {
   "cell_type": "code",
   "execution_count": 5,
   "metadata": {},
   "outputs": [
    {
     "name": "stdout",
     "output_type": "stream",
     "text": [
      "+---------+---------------+\n",
      "|store_nbr|transactionssum|\n",
      "+---------+---------------+\n",
      "|       44|        1493932|\n",
      "|       47|        1376187|\n",
      "|       46|        1304989|\n",
      "|       45|        1292359|\n",
      "|        3|        1141431|\n",
      "|       48|        1089317|\n",
      "|        8|        1013479|\n",
      "|       50|         972039|\n",
      "|       11|         893998|\n",
      "|       34|         891297|\n",
      "+---------+---------------+\n",
      "only showing top 10 rows\n",
      "\n"
     ]
    }
   ],
   "source": [
    "sqlContext.sql(\"select store_nbr, sum(transactions) as transactionssum  from sdfTransactionsTbl where date < '2014-01-01 00:00:00' group by store_nbr order by 2 desc\").show(10)"
   ]
  },
  {
   "cell_type": "code",
   "execution_count": 6,
   "metadata": {},
   "outputs": [
    {
     "name": "stdout",
     "output_type": "stream",
     "text": [
      "+---------+---------------------+\n",
      "|store_nbr|transactionsdayscount|\n",
      "+---------+---------------------+\n",
      "|       25|                  364|\n",
      "|        6|                  363|\n",
      "|       34|                  363|\n",
      "|       28|                  363|\n",
      "|       26|                  363|\n",
      "|       27|                  363|\n",
      "|       44|                  363|\n",
      "|       12|                  363|\n",
      "|       47|                  363|\n",
      "|        1|                  363|\n",
      "+---------+---------------------+\n",
      "only showing top 10 rows\n",
      "\n"
     ]
    }
   ],
   "source": [
    "sqlContext.sql(\"select store_nbr, count(transactions) as transactionsdayscount from sdfTransactionsTbl where date < '2014-01-01 00:00:00' group by store_nbr order by 2 desc\").show(10)"
   ]
  },
  {
   "cell_type": "code",
   "execution_count": 7,
   "metadata": {},
   "outputs": [
    {
     "name": "stdout",
     "output_type": "stream",
     "text": [
      "+---------+---------------+\n",
      "|store_nbr|transactionssum|\n",
      "+---------+---------------+\n",
      "|       44|        1622607|\n",
      "|       47|        1447939|\n",
      "|       45|        1370575|\n",
      "|       46|        1344446|\n",
      "|       48|        1168208|\n",
      "|        3|        1166136|\n",
      "|        8|        1029991|\n",
      "|       50|         973035|\n",
      "|       49|         949515|\n",
      "|       34|         898376|\n",
      "+---------+---------------+\n",
      "only showing top 10 rows\n",
      "\n"
     ]
    }
   ],
   "source": [
    "sqlContext.sql(\"select store_nbr, sum(transactions) as transactionssum  from sdfTransactionsTbl where date >= '2014-01-01 00:00:00' and date < '2015-01-01 00:00:00' group by store_nbr order by 2 desc\").show(10)"
   ]
  },
  {
   "cell_type": "code",
   "execution_count": 8,
   "metadata": {},
   "outputs": [
    {
     "name": "stdout",
     "output_type": "stream",
     "text": [
      "+---------+---------------------+\n",
      "|store_nbr|transactionsdayscount|\n",
      "+---------+---------------------+\n",
      "|       36|                  364|\n",
      "|        6|                  363|\n",
      "|       31|                  363|\n",
      "|       34|                  363|\n",
      "|       28|                  363|\n",
      "|       26|                  363|\n",
      "|       27|                  363|\n",
      "|       44|                  363|\n",
      "|       12|                  363|\n",
      "|       47|                  363|\n",
      "+---------+---------------------+\n",
      "only showing top 10 rows\n",
      "\n"
     ]
    }
   ],
   "source": [
    "sqlContext.sql(\"select store_nbr, count(transactions) as transactionsdayscount from sdfTransactionsTbl where date >= '2014-01-01 00:00:00' and date < '2015-01-01 00:00:00' group by store_nbr order by 2 desc\").show(10)"
   ]
  },
  {
   "cell_type": "code",
   "execution_count": 9,
   "metadata": {},
   "outputs": [
    {
     "name": "stdout",
     "output_type": "stream",
     "text": [
      "+---------+---------------+\n",
      "|store_nbr|transactionssum|\n",
      "+---------+---------------+\n",
      "|       44|        1593523|\n",
      "|       47|        1430126|\n",
      "|       45|        1337679|\n",
      "|       46|        1311670|\n",
      "|        3|        1175267|\n",
      "|       48|        1128070|\n",
      "|       49|        1054872|\n",
      "|        8|        1002385|\n",
      "|       50|         953655|\n",
      "|       24|         843558|\n",
      "+---------+---------------+\n",
      "only showing top 10 rows\n",
      "\n"
     ]
    }
   ],
   "source": [
    "sqlContext.sql(\"select store_nbr, sum(transactions) as transactionssum  from sdfTransactionsTbl where date >= '2015-01-01 00:00:00' and date < '2016-01-01 00:00:00' group by store_nbr order by 2 desc\").show(10)"
   ]
  },
  {
   "cell_type": "code",
   "execution_count": 10,
   "metadata": {},
   "outputs": [
    {
     "name": "stdout",
     "output_type": "stream",
     "text": [
      "+---------+---------------------+\n",
      "|store_nbr|transactionsdayscount|\n",
      "+---------+---------------------+\n",
      "|       25|                  364|\n",
      "|       16|                  363|\n",
      "|       13|                  363|\n",
      "|       34|                  363|\n",
      "|       31|                  363|\n",
      "|       26|                  363|\n",
      "|       27|                  363|\n",
      "|       44|                  363|\n",
      "|       28|                  363|\n",
      "|       53|                  363|\n",
      "+---------+---------------------+\n",
      "only showing top 10 rows\n",
      "\n"
     ]
    }
   ],
   "source": [
    "sqlContext.sql(\"select store_nbr, count(transactions) as transactionsdayscount from sdfTransactionsTbl where date >= '2015-01-01 00:00:00' and date < '2016-01-01 00:00:00' group by store_nbr order by 2 desc\").show(10)"
   ]
  },
  {
   "cell_type": "code",
   "execution_count": 11,
   "metadata": {},
   "outputs": [
    {
     "name": "stdout",
     "output_type": "stream",
     "text": [
      "+---------+---------------+\n",
      "|store_nbr|transactionssum|\n",
      "+---------+---------------+\n",
      "|       44|        1574685|\n",
      "|       47|        1402767|\n",
      "|       45|        1333314|\n",
      "|       46|        1233791|\n",
      "|        3|        1164208|\n",
      "|       49|        1090042|\n",
      "|       48|        1056809|\n",
      "|        8|         980025|\n",
      "|       50|         893879|\n",
      "|       11|         829133|\n",
      "+---------+---------------+\n",
      "only showing top 10 rows\n",
      "\n"
     ]
    }
   ],
   "source": [
    "sqlContext.sql(\"select store_nbr, sum(transactions) as transactionssum  from sdfTransactionsTbl where date >= '2016-01-01 00:00:00' and date < '2017-01-01 00:00:00' group by store_nbr order by 2 desc\").show(10)"
   ]
  },
  {
   "cell_type": "code",
   "execution_count": 12,
   "metadata": {},
   "outputs": [
    {
     "name": "stdout",
     "output_type": "stream",
     "text": [
      "+---------+---------------------+\n",
      "|store_nbr|transactionsdayscount|\n",
      "+---------+---------------------+\n",
      "|       32|                  363|\n",
      "|       33|                  363|\n",
      "|       39|                  363|\n",
      "|       24|                  363|\n",
      "|       26|                  363|\n",
      "|       34|                  363|\n",
      "|       31|                  363|\n",
      "|       37|                  363|\n",
      "|       38|                  363|\n",
      "|       30|                  363|\n",
      "+---------+---------------------+\n",
      "only showing top 10 rows\n",
      "\n"
     ]
    }
   ],
   "source": [
    "sqlContext.sql(\"select store_nbr, count(transactions) as transactionsdayscount from sdfTransactionsTbl where date >= '2016-01-01 00:00:00' and date < '2017-01-01 00:00:00' group by store_nbr order by 2 desc\").show(10)"
   ]
  },
  {
   "cell_type": "raw",
   "metadata": {},
   "source": [
    "From all the above, it can be seen that stores 44 and 47 have high sum of transactions and also the total number of days of transaction.\n",
    "We can possibly use the data for 2013 and 2014 and then predict for some days in 2015."
   ]
  },
  {
   "cell_type": "code",
   "execution_count": 6,
   "metadata": {},
   "outputs": [],
   "source": [
    "txnRecCountForStore = sdfTransactions.filter(sdfTransactions.store_nbr == 44).count()"
   ]
  },
  {
   "cell_type": "code",
   "execution_count": 7,
   "metadata": {},
   "outputs": [
    {
     "data": {
      "text/plain": [
       "1677"
      ]
     },
     "execution_count": 7,
     "metadata": {},
     "output_type": "execute_result"
    }
   ],
   "source": [
    "txnRecCountForStore"
   ]
  },
  {
   "cell_type": "code",
   "execution_count": 9,
   "metadata": {
    "collapsed": true
   },
   "outputs": [],
   "source": [
    "from __future__ import division"
   ]
  },
  {
   "cell_type": "code",
   "execution_count": 10,
   "metadata": {},
   "outputs": [
    {
     "data": {
      "text/plain": [
       "0.020086719049444233"
      ]
     },
     "execution_count": 10,
     "metadata": {},
     "output_type": "execute_result"
    }
   ],
   "source": [
    "percentageRecs = txnRecCountForStore / sdfTransactions.count()\n",
    "percentageRecs"
   ]
  },
  {
   "cell_type": "code",
   "execution_count": 11,
   "metadata": {
    "collapsed": true
   },
   "outputs": [],
   "source": [
    "sdfTrain = sqlContext.read.csv(\"/gl-capstone-data/Team6-C-Sep/Data/train/train.csv\",header = True,inferSchema = True)"
   ]
  },
  {
   "cell_type": "code",
   "execution_count": 12,
   "metadata": {
    "collapsed": true
   },
   "outputs": [],
   "source": [
    "sqlContext.registerDataFrameAsTable(sdfTrain, \"sdfTrainTbl\")"
   ]
  },
  {
   "cell_type": "code",
   "execution_count": 13,
   "metadata": {},
   "outputs": [
    {
     "name": "stdout",
     "output_type": "stream",
     "text": [
      "+------------------------+\n",
      "|count(DISTINCT item_nbr)|\n",
      "+------------------------+\n",
      "|                    1758|\n",
      "+------------------------+\n",
      "\n"
     ]
    }
   ],
   "source": [
    "sqlContext.sql(\"select count(distinct(item_nbr)) from sdfTrainTbl where date < '2014-01-01 00:00:00' and store_nbr = 44\").show()"
   ]
  },
  {
   "cell_type": "code",
   "execution_count": null,
   "metadata": {
    "collapsed": true
   },
   "outputs": [],
   "source": []
  }
 ],
 "metadata": {
  "kernelspec": {
   "display_name": "PySpark",
   "language": "python",
   "name": "pyspark"
  },
  "language_info": {
   "codemirror_mode": {
    "name": "ipython",
    "version": 2
   },
   "file_extension": ".py",
   "mimetype": "text/x-python",
   "name": "python",
   "nbconvert_exporter": "python",
   "pygments_lexer": "ipython2",
   "version": "2.7.14"
  }
 },
 "nbformat": 4,
 "nbformat_minor": 2
}
